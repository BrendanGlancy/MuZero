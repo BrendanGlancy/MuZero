{
 "cells": [
  {
   "cell_type": "code",
   "execution_count": null,
   "metadata": {},
   "outputs": [],
   "source": [
    "# following along with a long twitch stream exploring MuZero"
   ]
  },
  {
   "cell_type": "code",
   "execution_count": 54,
   "metadata": {
    "scrolled": true
   },
   "outputs": [
    {
     "name": "stdout",
     "output_type": "stream",
     "text": [
      "Populating the interactive namespace from numpy and matplotlib\n"
     ]
    }
   ],
   "source": [
    "%pylab inline\n",
    "import tensorflow as tf\n",
    "import numpy as np\n",
    "import gym\n",
    "from tqdm import trange\n",
    "from tensorflow.keras.models import Model\n",
    "from tensorflow.keras.optimizers import Adam, SGD\n",
    "np.set_printoptions(suppress=True)\n",
    "\n",
    "def to_one_hot(x,n):\n",
    "  ret = np.zeros([n])\n",
    "  ret[x] = 1.0\n",
    "  return ret\n",
    "\n",
    "def bstack(bb):\n",
    "    ret = [[x] for x in bb[0]]\n",
    "    for i in range(1, len(bb)):\n",
    "        for j in range(len(bb[i])):\n",
    "            ret[j].append(bb[i][j])\n",
    "    return [np.array(x) for x in ret]"
   ]
  },
  {
   "cell_type": "code",
   "execution_count": 55,
   "metadata": {
    "scrolled": false
   },
   "outputs": [],
   "source": [
    "# from muzero.model import MuModel"
   ]
  },
  {
   "cell_type": "code",
   "execution_count": 60,
   "metadata": {},
   "outputs": [
    {
     "data": {
      "text/plain": [
       "(Box(-3.4028234663852886e+38, 3.4028234663852886e+38, (4,), float32),\n",
       " Discrete(2))"
      ]
     },
     "execution_count": 60,
     "metadata": {},
     "output_type": "execute_result"
    }
   ],
   "source": [
    "env = gym.make(\"CartPole-v0\")\n",
    "env.observation_space, env.action_space"
   ]
  },
  {
   "cell_type": "code",
   "execution_count": 66,
   "metadata": {},
   "outputs": [],
   "source": [
    "S_DIM = 4\n",
    "\n",
    "# h: representation function\n",
    "# \n",
    "\n",
    "x = o_0 = Input(env.observation_space.shape)\n",
    "x = Dense(S_DIM)(x)\n",
    "s_0 = Activation('tanh')(x)\n",
    "unh = Model(o_0, s_0, name=\"h\")\n",
    "def ht(o_0):\n",
    "    return h.predict(o_0[None])[0]\n",
    "\n",
    "# g: dynamics function (recurrent in state?) old_state+action -> state + reward\n",
    "# takes in the state s_k-1, and the action of k and outputs the reward\n",
    "# r_k, s_k = g(s_k-1, a_k)\n",
    "\n",
    "s_kml = Input(S_DIM)\n",
    "a_k = Input(env.action_space.n)\n",
    "x = Concatenate()([s_kml, a_k])\n",
    "x = Dense(64)(x)\n",
    "x = Activation('elu')(x)\n",
    "x = Dense(64)(x)\n",
    "x = Activation('elu')(x)\n",
    "# state\n",
    "s_k = Dense(S_DIM, name='s_k')(x)\n",
    "# reward\n",
    "r_k = Dense(1, name='r_k')(x)\n",
    "g = Model([s_kml, a_k], [r_k, s_k], name=\"g\")\n",
    "g.compile('adam', 'mse')\n",
    "def gt(s_kml, a_k):\n",
    "    r_k, s_k = g.predict([s_kml[None], a_k[None]])\n",
    "    return r_k[0], s_k[0]\n",
    "\n",
    "\n",
    "x = s_k = Input(S_DIM)\n",
    "x = Dense(32)(x)\n",
    "x = Activation('elu')(x)\n",
    "p_k = Dense(env.action_space.n)(x)\n",
    "p_k = Activation('softmax', name='p_k')(p_k)\n",
    "v_k = Dense(1, name='v_k')(x)\n",
    "f = Model(s_k, [p_k, v_k], name=\"f\")\n",
    "f.compile('adam', 'mse')\n",
    "def ft(s_kml, a_k):\n",
    "    p_k, v_k = f.predict(s_k[None])\n",
    "    return p_k[0], v_k[0]"
   ]
  },
  {
   "cell_type": "code",
   "execution_count": 62,
   "metadata": {},
   "outputs": [
    {
     "name": "stdout",
     "output_type": "stream",
     "text": [
      "Model: \"model_5\"\n",
      "__________________________________________________________________________________________________\n",
      "Layer (type)                    Output Shape         Param #     Connected to                     \n",
      "==================================================================================================\n",
      "o_0 (InputLayer)                [(None, 4)]          0                                            \n",
      "__________________________________________________________________________________________________\n",
      "a_0 (InputLayer)                [(None, 2)]          0                                            \n",
      "__________________________________________________________________________________________________\n",
      "g (Functional)                  [(None, 1), (None, 4 4933        o_0[0][0]                        \n",
      "                                                                 a_0[0][0]                        \n",
      "                                                                 g[0][1]                          \n",
      "                                                                 a_1[0][0]                        \n",
      "                                                                 g[1][1]                          \n",
      "                                                                 a_2[0][0]                        \n",
      "                                                                 g[2][1]                          \n",
      "                                                                 a_3[0][0]                        \n",
      "                                                                 g[3][1]                          \n",
      "                                                                 a_4[0][0]                        \n",
      "__________________________________________________________________________________________________\n",
      "a_1 (InputLayer)                [(None, 2)]          0                                            \n",
      "__________________________________________________________________________________________________\n",
      "a_2 (InputLayer)                [(None, 2)]          0                                            \n",
      "__________________________________________________________________________________________________\n",
      "a_3 (InputLayer)                [(None, 2)]          0                                            \n",
      "__________________________________________________________________________________________________\n",
      "a_4 (InputLayer)                [(None, 2)]          0                                            \n",
      "__________________________________________________________________________________________________\n",
      "f (Functional)                  [(None, 2), (None, 1 259         g[0][1]                          \n",
      "                                                                 g[1][1]                          \n",
      "                                                                 g[2][1]                          \n",
      "                                                                 g[3][1]                          \n",
      "                                                                 g[4][1]                          \n",
      "==================================================================================================\n",
      "Total params: 5,192\n",
      "Trainable params: 5,192\n",
      "Non-trainable params: 0\n",
      "__________________________________________________________________________________________________\n"
     ]
    }
   ],
   "source": [
    "# will use the dynamics function for rollout search\n",
    "K = 5\n",
    "gamma = 0.95\n",
    "\n",
    "# represent\n",
    "o_0 = Input(env.observation_space.shape, name=\"o_0\")\n",
    "# dont use the h function rn\n",
    "# s_kml = h(o_0)\n",
    "s_kml = o_0\n",
    "\n",
    "# rollout with dynamics\n",
    "# p_k, v_k, r_k = mu(o_0, a_l_k)\n",
    "# inialization of a_all mu_all\n",
    "\n",
    "a_all, mu_all = [], []\n",
    "\n",
    "for k in range(K):\n",
    "    a_k = Input(env.action_space.n, name=\"a_%d\" % k)\n",
    "    r_k, s_k = g([s_kml, a_k])\n",
    "    \n",
    "    # predict\n",
    "    p_k, v_k = f([s_k])\n",
    "    \n",
    "    # store\n",
    "    a_all.append(a_k)\n",
    "    mu_all.append([p_k, v_k, r_k])\n",
    "    s_kml = s_k\n",
    "    \n",
    "# put in the first observation and actions\n",
    "#  need policy for search\n",
    "#  need values from the sum of records + last state value (real state?)\n",
    "# a_all = Concatenate()(a_all)\n",
    "mu = Model([o_0, a_all], mu_all)\n",
    "mu.compile('adam', 'mse')\n",
    "mu.summary()"
   ]
  },
  {
   "cell_type": "code",
   "execution_count": 63,
   "metadata": {},
   "outputs": [
    {
     "ename": "ValueError",
     "evalue": "The truth value of an array with more than one element is ambiguous. Use a.any() or a.all()",
     "output_type": "error",
     "traceback": [
      "\u001b[0;31m---------------------------------------------------------------------------\u001b[0m",
      "\u001b[0;31mValueError\u001b[0m                                Traceback (most recent call last)",
      "\u001b[0;32m<ipython-input-63-741b9f02dd31>\u001b[0m in \u001b[0;36m<module>\u001b[0;34m\u001b[0m\n\u001b[1;32m     15\u001b[0m \u001b[0;34m\u001b[0m\u001b[0m\n\u001b[1;32m     16\u001b[0m \u001b[0menv\u001b[0m\u001b[0;34m.\u001b[0m\u001b[0mreset\u001b[0m\u001b[0;34m(\u001b[0m\u001b[0;34m)\u001b[0m\u001b[0;34m\u001b[0m\u001b[0;34m\u001b[0m\u001b[0m\n\u001b[0;32m---> 17\u001b[0;31m \u001b[0msearch\u001b[0m\u001b[0;34m(\u001b[0m\u001b[0menv\u001b[0m\u001b[0;34m.\u001b[0m\u001b[0mstate\u001b[0m\u001b[0;34m)\u001b[0m\u001b[0;34m\u001b[0m\u001b[0;34m\u001b[0m\u001b[0m\n\u001b[0m",
      "\u001b[0;32m<ipython-input-63-741b9f02dd31>\u001b[0m in \u001b[0;36msearch\u001b[0;34m(o_0)\u001b[0m\n\u001b[1;32m     12\u001b[0m     \u001b[0mret\u001b[0m \u001b[0;34m=\u001b[0m \u001b[0mmu\u001b[0m\u001b[0;34m.\u001b[0m\u001b[0mpredict\u001b[0m\u001b[0;34m(\u001b[0m\u001b[0;34m[\u001b[0m\u001b[0mo_0s\u001b[0m\u001b[0;34m]\u001b[0m\u001b[0;34m+\u001b[0m\u001b[0maoptss\u001b[0m\u001b[0;34m)\u001b[0m\u001b[0;34m\u001b[0m\u001b[0;34m\u001b[0m\u001b[0m\n\u001b[1;32m     13\u001b[0m     \u001b[0mv\u001b[0m \u001b[0;34m=\u001b[0m \u001b[0;34m[\u001b[0m\u001b[0;34m(\u001b[0m\u001b[0mret\u001b[0m\u001b[0;34m[\u001b[0m\u001b[0;34m-\u001b[0m\u001b[0;36m2\u001b[0m\u001b[0;34m]\u001b[0m\u001b[0;34m[\u001b[0m\u001b[0mi\u001b[0m\u001b[0;34m]\u001b[0m\u001b[0;34m[\u001b[0m\u001b[0;36m0\u001b[0m\u001b[0;34m]\u001b[0m\u001b[0;34m,\u001b[0m \u001b[0maopts\u001b[0m\u001b[0;34m[\u001b[0m\u001b[0mi\u001b[0m\u001b[0;34m]\u001b[0m\u001b[0;34m)\u001b[0m \u001b[0;32mfor\u001b[0m \u001b[0mi\u001b[0m \u001b[0;32min\u001b[0m \u001b[0mrange\u001b[0m\u001b[0;34m(\u001b[0m\u001b[0mlen\u001b[0m\u001b[0;34m(\u001b[0m\u001b[0mret\u001b[0m\u001b[0;34m[\u001b[0m\u001b[0;34m-\u001b[0m\u001b[0;36m2\u001b[0m\u001b[0;34m]\u001b[0m\u001b[0;34m)\u001b[0m\u001b[0;34m)\u001b[0m\u001b[0;34m]\u001b[0m\u001b[0;34m\u001b[0m\u001b[0;34m\u001b[0m\u001b[0m\n\u001b[0;32m---> 14\u001b[0;31m     \u001b[0;32mreturn\u001b[0m \u001b[0msorted\u001b[0m\u001b[0;34m(\u001b[0m\u001b[0mv\u001b[0m\u001b[0;34m,\u001b[0m \u001b[0mreverse\u001b[0m\u001b[0;34m=\u001b[0m\u001b[0;32mTrue\u001b[0m\u001b[0;34m)\u001b[0m\u001b[0;34m\u001b[0m\u001b[0;34m\u001b[0m\u001b[0m\n\u001b[0m\u001b[1;32m     15\u001b[0m \u001b[0;34m\u001b[0m\u001b[0m\n\u001b[1;32m     16\u001b[0m \u001b[0menv\u001b[0m\u001b[0;34m.\u001b[0m\u001b[0mreset\u001b[0m\u001b[0;34m(\u001b[0m\u001b[0;34m)\u001b[0m\u001b[0;34m\u001b[0m\u001b[0;34m\u001b[0m\u001b[0m\n",
      "\u001b[0;31mValueError\u001b[0m: The truth value of an array with more than one element is ambiguous. Use a.any() or a.all()"
     ]
    }
   ],
   "source": [
    "import itertools\n",
    "\n",
    "aopts = list(itertools.product([0,1], repeat=K))\n",
    "aoptss = np.array([[to_one_hot(x, 2) for x in aa] for aa in aopts])\n",
    "aoptss = aoptss.swapaxes(0,1)\n",
    "aoptss = [aoptss[x] for x in range(5)]\n",
    "\n",
    "def search(o_0):\n",
    "    # 2 ^ 5 rollout isn't too bad, explore them all\n",
    "    # maximize value\n",
    "    o_0s = np.repeat(np.array(o_0)[None], len(aopts), axis=0)\n",
    "    ret = mu.predict([o_0s]+aoptss)\n",
    "    v = [(ret[-2][i][0], aopts[i]) for i in range(len(ret[-2]))]\n",
    "    return sorted(v, reverse=True)\n",
    "\n",
    "env.reset()\n",
    "search(env.state)"
   ]
  },
  {
   "cell_type": "code",
   "execution_count": null,
   "metadata": {},
   "outputs": [],
   "source": []
  }
 ],
 "metadata": {
  "kernelspec": {
   "display_name": "Python 3",
   "language": "python",
   "name": "python3"
  },
  "language_info": {
   "codemirror_mode": {
    "name": "ipython",
    "version": 3
   },
   "file_extension": ".py",
   "mimetype": "text/x-python",
   "name": "python",
   "nbconvert_exporter": "python",
   "pygments_lexer": "ipython3",
   "version": "3.8.3"
  }
 },
 "nbformat": 4,
 "nbformat_minor": 4
}
